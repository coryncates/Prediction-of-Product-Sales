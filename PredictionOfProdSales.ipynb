{
  "nbformat": 4,
  "nbformat_minor": 0,
  "metadata": {
    "colab": {
      "provenance": [],
      "authorship_tag": "ABX9TyNz0r5RvbIiC+5D/h1AL9sF",
      "include_colab_link": true
    },
    "kernelspec": {
      "name": "python3",
      "display_name": "Python 3"
    },
    "language_info": {
      "name": "python"
    }
  },
  "cells": [
    {
      "cell_type": "markdown",
      "metadata": {
        "id": "view-in-github",
        "colab_type": "text"
      },
      "source": [
        "<a href=\"https://colab.research.google.com/github/coryncates/Prediction-of-Product-Sales/blob/main/PredictionOfProdSales.ipynb\" target=\"_parent\"><img src=\"https://colab.research.google.com/assets/colab-badge.svg\" alt=\"Open In Colab\"/></a>"
      ]
    },
    {
      "cell_type": "markdown",
      "source": [
        "# Prediction of Product Sales\n",
        "  - Author: Cory N. Cates\n",
        "## Project Overview\n",
        "## Load and Inspect Data\n"
      ],
      "metadata": {
        "id": "1XNtEbH0tVCP"
      }
    },
    {
      "cell_type": "code",
      "execution_count": 1,
      "metadata": {
        "id": "dq-T1W3SlHDM",
        "outputId": "70d3a8bd-a2a7-45da-cd07-963c76381d27",
        "colab": {
          "base_uri": "https://localhost:8080/"
        }
      },
      "outputs": [
        {
          "output_type": "stream",
          "name": "stdout",
          "text": [
            "Mounted at /content/drive\n"
          ]
        }
      ],
      "source": [
        "# Mount google drive\n",
        "\n",
        "from google.colab import drive\n",
        "drive.mount ('/content/drive')\n",
        "\n",
        "import pandas as pd\n",
        "\n",
        "fpath= ('/content/drive/MyDrive/CodingDojo/01-Fundamentals/Week02/Data/sales_predictions_2023.csv')\n",
        "\n",
        "df"
      ]
    },
    {
      "cell_type": "markdown",
      "source": [
        "## Clean Data"
      ],
      "metadata": {
        "id": "UDGVCWtPtrmi"
      }
    },
    {
      "cell_type": "code",
      "source": [],
      "metadata": {
        "id": "wMgoUoP6tsQt"
      },
      "execution_count": null,
      "outputs": []
    },
    {
      "cell_type": "markdown",
      "source": [
        "## Exploratory Data Analysis"
      ],
      "metadata": {
        "id": "GfWG9EwqttRi"
      }
    },
    {
      "cell_type": "code",
      "source": [],
      "metadata": {
        "id": "9tD5PNoztt6A"
      },
      "execution_count": null,
      "outputs": []
    },
    {
      "cell_type": "markdown",
      "source": [
        "## Explanatory Data Analysis"
      ],
      "metadata": {
        "id": "JhegAkIGtxlt"
      }
    },
    {
      "cell_type": "code",
      "source": [],
      "metadata": {
        "id": "yjFLxDiItyBp"
      },
      "execution_count": null,
      "outputs": []
    }
  ]
}