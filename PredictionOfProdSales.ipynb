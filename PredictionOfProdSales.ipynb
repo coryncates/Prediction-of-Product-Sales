{
  "nbformat": 4,
  "nbformat_minor": 0,
  "metadata": {
    "colab": {
      "provenance": [],
      "toc_visible": true,
      "authorship_tag": "ABX9TyPOiUZ7g3R4FA6Pv33c0VDp",
      "include_colab_link": true
    },
    "kernelspec": {
      "name": "python3",
      "display_name": "Python 3"
    },
    "language_info": {
      "name": "python"
    }
  },
  "cells": [
    {
      "cell_type": "markdown",
      "metadata": {
        "id": "view-in-github",
        "colab_type": "text"
      },
      "source": [
        "<a href=\"https://colab.research.google.com/github/coryncates/Prediction-of-Product-Sales/blob/main/PredictionOfProdSales.ipynb\" target=\"_parent\"><img src=\"https://colab.research.google.com/assets/colab-badge.svg\" alt=\"Open In Colab\"/></a>"
      ]
    },
    {
      "cell_type": "markdown",
      "source": [
        "# Prediction of Product Sales\n",
        "  - Author: Cory N. Cates\n",
        "## Project Overview\n",
        "## Load and Inspect Data\n"
      ],
      "metadata": {
        "id": "1XNtEbH0tVCP"
      }
    },
    {
      "cell_type": "code",
      "execution_count": null,
      "metadata": {
        "id": "dq-T1W3SlHDM"
      },
      "outputs": [],
      "source": []
    },
    {
      "cell_type": "markdown",
      "source": [
        "## Clean Data"
      ],
      "metadata": {
        "id": "UDGVCWtPtrmi"
      }
    },
    {
      "cell_type": "code",
      "source": [],
      "metadata": {
        "id": "wMgoUoP6tsQt"
      },
      "execution_count": null,
      "outputs": []
    },
    {
      "cell_type": "markdown",
      "source": [
        "## Exploratory Data Analysis"
      ],
      "metadata": {
        "id": "GfWG9EwqttRi"
      }
    },
    {
      "cell_type": "code",
      "source": [],
      "metadata": {
        "id": "9tD5PNoztt6A"
      },
      "execution_count": null,
      "outputs": []
    },
    {
      "cell_type": "markdown",
      "source": [
        "## Explanatory Data Analysis"
      ],
      "metadata": {
        "id": "JhegAkIGtxlt"
      }
    },
    {
      "cell_type": "code",
      "source": [],
      "metadata": {
        "id": "yjFLxDiItyBp"
      },
      "execution_count": null,
      "outputs": []
    }
  ]
}